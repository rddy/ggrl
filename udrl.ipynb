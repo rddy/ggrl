{
 "cells": [
  {
   "cell_type": "code",
   "execution_count": null,
   "id": "0d5ecf03-6c70-448e-b79b-d83d5a51ef84",
   "metadata": {},
   "outputs": [],
   "source": [
    "%load_ext autoreload\n",
    "%autoreload 2\n",
    "%matplotlib inline"
   ]
  },
  {
   "cell_type": "code",
   "execution_count": null,
   "id": "55c65a85-c394-40d6-91bd-6be6404796df",
   "metadata": {},
   "outputs": [],
   "source": [
    "import os\n",
    "\n",
    "import gymnasium as gym\n",
    "import numpy as np\n",
    "\n",
    "import matplotlib.pyplot as plt\n",
    "\n",
    "import utils\n",
    "import agents\n",
    "import models\n",
    "import datasets\n",
    "import optimizers"
   ]
  },
  {
   "cell_type": "code",
   "execution_count": null,
   "id": "7a95bc2c-b972-4a4a-aeb2-ed5673e992b6",
   "metadata": {},
   "outputs": [],
   "source": [
    "utils.set_random_seed(42)"
   ]
  },
  {
   "cell_type": "code",
   "execution_count": null,
   "id": "26f55c15-7895-4a04-8d1a-53c210353ccb",
   "metadata": {},
   "outputs": [],
   "source": [
    "model_path = os.path.join(utils.MODEL_DIR, 'test.pt')\n",
    "data_path = os.path.join(utils.EXP_DIR, 'test.pkl')"
   ]
  },
  {
   "cell_type": "code",
   "execution_count": null,
   "id": "f703087e-4fea-4c93-b083-008e1caf5c4b",
   "metadata": {},
   "outputs": [],
   "source": [
    "env_name = 'CartPole-v1'\n",
    "env = gym.make(env_name)"
   ]
  },
  {
   "cell_type": "code",
   "execution_count": null,
   "id": "50625698-9207-4213-b0d0-a0691bbb16de",
   "metadata": {},
   "outputs": [],
   "source": [
    "n_obs_dims, n_act_dims, discrete = utils.get_env_dims(env)"
   ]
  },
  {
   "cell_type": "markdown",
   "id": "f8f15a05-2d73-4186-83c1-759bc803a0c4",
   "metadata": {},
   "source": [
    "collect random trajectories to train initial model"
   ]
  },
  {
   "cell_type": "code",
   "execution_count": null,
   "id": "d885e0c5-ca13-43ff-a77c-1e1e3b9725c2",
   "metadata": {},
   "outputs": [],
   "source": [
    "agent = agents.RandomAgent(env)"
   ]
  },
  {
   "cell_type": "code",
   "execution_count": null,
   "id": "665e05d2-5019-47d0-9c58-1096279bf02e",
   "metadata": {},
   "outputs": [],
   "source": [
    "dataset = datasets.ExpDataset()"
   ]
  },
  {
   "cell_type": "code",
   "execution_count": null,
   "id": "08da42d0-e0e2-452d-9e2d-2a43c240cf66",
   "metadata": {},
   "outputs": [],
   "source": [
    "n_episodes = 10\n",
    "for i in range(n_episodes):\n",
    "    traj = utils.run_episode(env, agent, max_n_steps=1000, render=False)\n",
    "    dataset.put(traj)\n",
    "    rtn = sum(x[2] for x in traj)\n",
    "    print(i, rtn)"
   ]
  },
  {
   "cell_type": "markdown",
   "id": "4d9622f7-e123-4d58-a03f-e5579b881f73",
   "metadata": {},
   "source": [
    "train initial model"
   ]
  },
  {
   "cell_type": "code",
   "execution_count": null,
   "id": "d401a807-1cfb-47e7-9004-911885ac8294",
   "metadata": {},
   "outputs": [],
   "source": [
    "model = models.UDRLNeuralProcess(\n",
    "    n_obs_dims=n_obs_dims,\n",
    "    n_act_dims=n_act_dims,\n",
    "    n_emb_dims=32,\n",
    "    discrete=discrete,\n",
    "    emb_layer_kwargs={'n_layers': 2, 'layer_size': 64},\n",
    "    pred_layer_kwargs={'n_layers': 2, 'layer_size': 64}\n",
    ")"
   ]
  },
  {
   "cell_type": "code",
   "execution_count": null,
   "id": "5fddacfe-80e6-4c36-9fc8-676e4333e177",
   "metadata": {},
   "outputs": [],
   "source": [
    "optimizer = optimizers.UDRLNeuralProcessOptimizer(\n",
    "    model,\n",
    "    dataset,\n",
    "    batch_size=256,\n",
    "    opt_kwargs={'lr': 1e-3}\n",
    ")"
   ]
  },
  {
   "cell_type": "code",
   "execution_count": null,
   "id": "273543f4-2668-4263-8baf-154ad7ed1ae1",
   "metadata": {},
   "outputs": [],
   "source": [
    "dataset.split()"
   ]
  },
  {
   "cell_type": "code",
   "execution_count": null,
   "id": "45ccb6bf-c2cd-46d8-b707-125bac2072e5",
   "metadata": {},
   "outputs": [],
   "source": [
    "model.reset()"
   ]
  },
  {
   "cell_type": "code",
   "execution_count": null,
   "id": "07b252c9-dfea-4c4c-8b26-c8237aaf5c93",
   "metadata": {
    "scrolled": true
   },
   "outputs": [],
   "source": [
    "optimizer.train(n_epochs=1, verbose=True)"
   ]
  },
  {
   "cell_type": "markdown",
   "id": "2cd03a79-1774-429d-91fe-364f638ffae1",
   "metadata": {},
   "source": [
    "train online"
   ]
  },
  {
   "cell_type": "code",
   "execution_count": null,
   "id": "56ad0989-7b0f-4ca8-87e4-d073f9e946dd",
   "metadata": {},
   "outputs": [],
   "source": [
    "agent = agents.UDRLNeuralProcessAgent(\n",
    "    model, \n",
    "    dataset, \n",
    "    optimizer, \n",
    "    train_freq=1,\n",
    "    train_kwargs={'n_epochs': 1, 'verbose': False},\n",
    "    warm_start=True,\n",
    "    max_n_embs=1024\n",
    ")"
   ]
  },
  {
   "cell_type": "code",
   "execution_count": null,
   "id": "67bf75f4-64c8-4478-af1c-e101ca3ad72a",
   "metadata": {},
   "outputs": [],
   "source": [
    "agent.training = True"
   ]
  },
  {
   "cell_type": "code",
   "execution_count": null,
   "id": "23a54171-6672-4b67-9c45-a7b9fd5fb063",
   "metadata": {
    "scrolled": true
   },
   "outputs": [],
   "source": [
    "n_episodes = 100000\n",
    "for i in range(n_episodes):\n",
    "    traj = utils.run_episode(env, agent, max_n_steps=1000, render=False)\n",
    "    rtn = sum(x[2] for x in traj)\n",
    "    print(i, rtn)"
   ]
  },
  {
   "cell_type": "code",
   "execution_count": null,
   "id": "aedda3b5-8692-4061-b8a8-e009d04ebf37",
   "metadata": {},
   "outputs": [],
   "source": [
    "plt.title(env_name)\n",
    "plt.xlabel('Number of Training Trajectories')\n",
    "plt.ylabel('Return')\n",
    "plt.plot(utils.smooth(dataset.traj_returns, win=10))\n",
    "plt.show()"
   ]
  },
  {
   "cell_type": "code",
   "execution_count": null,
   "id": "0d810e47-953f-4044-bbb6-eda6b84a13bc",
   "metadata": {},
   "outputs": [],
   "source": []
  }
 ],
 "metadata": {
  "kernelspec": {
   "display_name": "Python 3 (ipykernel)",
   "language": "python",
   "name": "python3"
  },
  "language_info": {
   "codemirror_mode": {
    "name": "ipython",
    "version": 3
   },
   "file_extension": ".py",
   "mimetype": "text/x-python",
   "name": "python",
   "nbconvert_exporter": "python",
   "pygments_lexer": "ipython3",
   "version": "3.9.16"
  }
 },
 "nbformat": 4,
 "nbformat_minor": 5
}
